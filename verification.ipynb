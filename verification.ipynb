{
 "cells": [
  {
   "cell_type": "code",
   "execution_count": 336,
   "id": "b83ce2fb",
   "metadata": {},
   "outputs": [],
   "source": [
    "import numpy as np"
   ]
  },
  {
   "cell_type": "code",
   "execution_count": 337,
   "id": "827db009",
   "metadata": {},
   "outputs": [
    {
     "name": "stdout",
     "output_type": "stream",
     "text": [
      "The autoreload extension is already loaded. To reload it, use:\n",
      "  %reload_ext autoreload\n"
     ]
    }
   ],
   "source": [
    "%load_ext autoreload\n",
    "%autoreload 2\n",
    "from MaxPlus import MaxPlus\n"
   ]
  },
  {
   "cell_type": "code",
   "execution_count": 338,
   "id": "e1dab408",
   "metadata": {},
   "outputs": [
    {
     "data": {
      "text/plain": [
       "[[-inf   5.   3.]\n",
       " [  4.   3.   4.]\n",
       " [  6.   5.   4.]]"
      ]
     },
     "execution_count": 338,
     "metadata": {},
     "output_type": "execute_result"
    }
   ],
   "source": [
    "A = MaxPlus([[MaxPlus.Zero,5,3],[4,3,4],[6,5,4]])\n",
    "A"
   ]
  },
  {
   "cell_type": "code",
   "execution_count": null,
   "id": "2cb19955",
   "metadata": {},
   "outputs": [
    {
     "ename": "AttributeError",
     "evalue": "type object 'MaxPlus' has no attribute 'zero'",
     "output_type": "error",
     "traceback": [
      "\u001b[1;31m---------------------------------------------------------------------------\u001b[0m",
      "\u001b[1;31mAttributeError\u001b[0m                            Traceback (most recent call last)",
      "Cell \u001b[1;32mIn[339], line 1\u001b[0m\n\u001b[1;32m----> 1\u001b[0m B \u001b[38;5;241m=\u001b[39m \u001b[43mMaxPlus\u001b[49m\u001b[38;5;241;43m.\u001b[39;49m\u001b[43mzero\u001b[49m((\u001b[38;5;241m3\u001b[39m,\u001b[38;5;241m3\u001b[39m))\n\u001b[0;32m      2\u001b[0m B\n",
      "\u001b[1;31mAttributeError\u001b[0m: type object 'MaxPlus' has no attribute 'zero'"
     ]
    }
   ],
   "source": [
    "B = MaxPlus.zeros((3,3))\n",
    "B"
   ]
  },
  {
   "cell_type": "code",
   "execution_count": null,
   "id": "6f931f0b",
   "metadata": {},
   "outputs": [
    {
     "data": {
      "text/plain": [
       "[[  0. -inf -inf]\n",
       " [-inf   0. -inf]\n",
       " [-inf -inf   0.]]"
      ]
     },
     "execution_count": 318,
     "metadata": {},
     "output_type": "execute_result"
    }
   ],
   "source": [
    "C = MaxPlus.eye(3)\n",
    "C"
   ]
  },
  {
   "cell_type": "code",
   "execution_count": null,
   "id": "73f57441",
   "metadata": {},
   "outputs": [
    {
     "data": {
      "text/plain": [
       "[[0. 5. 3.]\n",
       " [4. 3. 4.]\n",
       " [6. 5. 4.]]"
      ]
     },
     "execution_count": 319,
     "metadata": {},
     "output_type": "execute_result"
    }
   ],
   "source": [
    "A+C"
   ]
  },
  {
   "cell_type": "code",
   "execution_count": null,
   "id": "4658e45c",
   "metadata": {},
   "outputs": [
    {
     "data": {
      "text/plain": [
       "[[-inf -inf -inf]\n",
       " [-inf -inf -inf]\n",
       " [-inf -inf -inf]]"
      ]
     },
     "execution_count": 320,
     "metadata": {},
     "output_type": "execute_result"
    }
   ],
   "source": [
    "A@B"
   ]
  },
  {
   "cell_type": "code",
   "execution_count": null,
   "id": "454acf12",
   "metadata": {},
   "outputs": [
    {
     "data": {
      "text/plain": [
       "[[0. 0.]\n",
       " [0. 0.]]"
      ]
     },
     "execution_count": 321,
     "metadata": {},
     "output_type": "execute_result"
    }
   ],
   "source": [
    "MaxPlus.ones((2,2))"
   ]
  },
  {
   "cell_type": "code",
   "execution_count": null,
   "id": "49e435ba",
   "metadata": {},
   "outputs": [
    {
     "data": {
      "text/plain": [
       "[[ 9.  8.  9.]\n",
       " [10.  9.  8.]\n",
       " [10. 11.  9.]]"
      ]
     },
     "execution_count": 322,
     "metadata": {},
     "output_type": "execute_result"
    }
   ],
   "source": [
    "A@A"
   ]
  },
  {
   "cell_type": "code",
   "execution_count": null,
   "id": "f7f05fa1",
   "metadata": {},
   "outputs": [
    {
     "data": {
      "text/plain": [
       "[[ 9.  8.  9.]\n",
       " [10.  9.  8.]\n",
       " [10. 11.  9.]]"
      ]
     },
     "execution_count": 323,
     "metadata": {},
     "output_type": "execute_result"
    }
   ],
   "source": [
    "A**2"
   ]
  },
  {
   "cell_type": "code",
   "execution_count": null,
   "id": "8ea51fea",
   "metadata": {},
   "outputs": [
    {
     "data": {
      "text/plain": [
       "1.0"
      ]
     },
     "execution_count": 324,
     "metadata": {},
     "output_type": "execute_result"
    }
   ],
   "source": [
    "MaxPlus.naiveeigenv(MaxPlus(1))"
   ]
  },
  {
   "cell_type": "code",
   "execution_count": null,
   "id": "c224e801",
   "metadata": {},
   "outputs": [
    {
     "data": {
      "text/plain": [
       "-inf"
      ]
     },
     "execution_count": 325,
     "metadata": {},
     "output_type": "execute_result"
    }
   ],
   "source": [
    "MaxPlus.naiveeigenv(MaxPlus.zero())"
   ]
  },
  {
   "cell_type": "code",
   "execution_count": null,
   "id": "10b0bd37",
   "metadata": {},
   "outputs": [
    {
     "data": {
      "text/plain": [
       "inf"
      ]
     },
     "execution_count": 326,
     "metadata": {},
     "output_type": "execute_result"
    }
   ],
   "source": [
    "MaxPlus.naiveeigenv(MaxPlus.top())"
   ]
  },
  {
   "cell_type": "code",
   "execution_count": null,
   "id": "13f33b03",
   "metadata": {},
   "outputs": [
    {
     "data": {
      "text/plain": [
       "[[-inf   5.   3.]\n",
       " [  4.   3.   4.]\n",
       " [  6.   5.   4.]]"
      ]
     },
     "execution_count": 327,
     "metadata": {},
     "output_type": "execute_result"
    }
   ],
   "source": [
    "A = MaxPlus([[MaxPlus.Zero,5,3],[4,3,4],[6,5,4]])\n",
    "A"
   ]
  },
  {
   "cell_type": "code",
   "execution_count": null,
   "id": "f1b3a73f",
   "metadata": {},
   "outputs": [
    {
     "data": {
      "text/plain": [
       "5.0"
      ]
     },
     "execution_count": 328,
     "metadata": {},
     "output_type": "execute_result"
    }
   ],
   "source": [
    "MaxPlus.naiveeigenv(A)"
   ]
  },
  {
   "cell_type": "code",
   "execution_count": null,
   "id": "f9f046b2",
   "metadata": {},
   "outputs": [
    {
     "data": {
      "text/plain": [
       "[[-inf]]"
      ]
     },
     "execution_count": 329,
     "metadata": {},
     "output_type": "execute_result"
    }
   ],
   "source": [
    "M = MaxPlus.zero()\n",
    "M"
   ]
  },
  {
   "cell_type": "code",
   "execution_count": null,
   "id": "f17bd0b2",
   "metadata": {},
   "outputs": [
    {
     "data": {
      "text/plain": [
       "[[-inf   0.  -2.]\n",
       " [ -1.  -2.  -1.]\n",
       " [  1.   0.  -1.]]"
      ]
     },
     "execution_count": 330,
     "metadata": {},
     "output_type": "execute_result"
    }
   ],
   "source": [
    "M = A*(-MaxPlus.naiveeigenv(A))\n",
    "M"
   ]
  },
  {
   "cell_type": "code",
   "execution_count": null,
   "id": "f4dbf60e",
   "metadata": {},
   "outputs": [],
   "source": []
  },
  {
   "cell_type": "code",
   "execution_count": null,
   "id": "9aa8c5f4",
   "metadata": {},
   "outputs": [
    {
     "data": {
      "text/plain": [
       "[[ 0.  0. -1.]\n",
       " [ 0.  0. -1.]\n",
       " [ 1.  1.  0.]]"
      ]
     },
     "execution_count": 331,
     "metadata": {},
     "output_type": "execute_result"
    }
   ],
   "source": [
    "Mplus = MaxPlus.plus(M)\n",
    "Mplus"
   ]
  },
  {
   "cell_type": "code",
   "execution_count": null,
   "id": "dde33a4c",
   "metadata": {},
   "outputs": [
    {
     "data": {
      "text/plain": [
       "array([[0.],\n",
       "       [0.],\n",
       "       [1.]])"
      ]
     },
     "execution_count": 332,
     "metadata": {},
     "output_type": "execute_result"
    }
   ],
   "source": [
    "x = Mplus[:,0:1]\n",
    "x"
   ]
  },
  {
   "cell_type": "code",
   "execution_count": null,
   "id": "0c08cf2a",
   "metadata": {},
   "outputs": [
    {
     "name": "stdout",
     "output_type": "stream",
     "text": [
      "[[0.]\n",
      " [0.]\n",
      " [1.]] 5.0\n"
     ]
    }
   ],
   "source": [
    "v,rho = MaxPlus.eigenspace(A)\n",
    "print(v,rho)"
   ]
  },
  {
   "cell_type": "code",
   "execution_count": null,
   "id": "5eb91a53",
   "metadata": {},
   "outputs": [
    {
     "data": {
      "text/plain": [
       "[[0.9 0.5]]"
      ]
     },
     "execution_count": 334,
     "metadata": {},
     "output_type": "execute_result"
    }
   ],
   "source": [
    "A = MaxPlus([[1.7,2.1],[1.2,2.7]])\n",
    "\n",
    "b = MaxPlus([[2.6],[3.2]])\n",
    "xmin = MaxPlus.astarb(A,b)\n",
    "\n",
    "A//b\n"
   ]
  },
  {
   "cell_type": "code",
   "execution_count": null,
   "id": "f62a4d33",
   "metadata": {},
   "outputs": [],
   "source": [
    "A0 = MaxPlus([[MaxPlus],[],[]])"
   ]
  },
  {
   "cell_type": "code",
   "execution_count": null,
   "id": "37403699",
   "metadata": {},
   "outputs": [
    {
     "name": "stdout",
     "output_type": "stream",
     "text": [
      "4.0 3.0 4.0 2.6666666666666665\n"
     ]
    }
   ],
   "source": [
    "# 4 train\n",
    "\n",
    "A4 = MaxPlus([[2,5],[3,3]])\n",
    "A5 = MaxPlus([[2,5,MaxPlus.Zero],[MaxPlus.Zero,3,3],[MaxPlus.Unit,MaxPlus.Zero,MaxPlus.Zero]])\n",
    "A52 = MaxPlus([[2,5,MaxPlus.Zero],[3,MaxPlus.Zero,3],[MaxPlus.Zero,MaxPlus.Unit,MaxPlus.Zero]])\n",
    "A6 = MaxPlus([[2,5,MaxPlus.Zero,MaxPlus.Zero],\n",
    "              [MaxPlus.Zero,MaxPlus.Zero,3,3],\n",
    "              [MaxPlus.Unit,MaxPlus.Zero,MaxPlus.Zero,MaxPlus.Zero],\n",
    "              [MaxPlus.Zero,MaxPlus.Unit,MaxPlus.Zero,MaxPlus.Zero]\n",
    "              ])\n",
    "lambda4 = MaxPlus.naiveeigenv(A4)\n",
    "lambda5 = MaxPlus.naiveeigenv(A5)\n",
    "lambda52 = MaxPlus.naiveeigenv(A52)\n",
    "lambda6 = MaxPlus.naiveeigenv(A6)\n",
    "print(lambda4,lambda5,lambda52,lambda6)"
   ]
  }
 ],
 "metadata": {
  "kernelspec": {
   "display_name": "Python 3",
   "language": "python",
   "name": "python3"
  },
  "language_info": {
   "codemirror_mode": {
    "name": "ipython",
    "version": 3
   },
   "file_extension": ".py",
   "mimetype": "text/x-python",
   "name": "python",
   "nbconvert_exporter": "python",
   "pygments_lexer": "ipython3",
   "version": "3.11.1"
  }
 },
 "nbformat": 4,
 "nbformat_minor": 5
}
